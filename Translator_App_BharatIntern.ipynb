{
  "cells": [
    {
      "cell_type": "code",
      "execution_count": 5,
      "id": "1d280707",
      "metadata": {
        "colab": {
          "base_uri": "https://localhost:8080/"
        },
        "id": "1d280707",
        "outputId": "67e3ae58-b013-4d95-f37e-2bc05bee68e3"
      },
      "outputs": [
        {
          "output_type": "stream",
          "name": "stdout",
          "text": [
            "Enter the source language: English\n",
            "Enter the target language: Korean\n",
            "Enter the text to translate: I am very Happy\n",
            "Translated text: 이 제품에 아주 만족합니다.\n"
          ]
        }
      ],
      "source": [
        "from translate import Translator\n",
        "\n",
        "def translate_text(text, source_lang, target_lang):\n",
        "    translator = Translator(from_lang=source_lang, to_lang=target_lang)\n",
        "    translation = translator.translate(text)\n",
        "    return translation\n",
        "\n",
        "# Get language choices from the user\n",
        "source_lang = input(\"Enter the source language: \")\n",
        "target_lang = input(\"Enter the target language: \")\n",
        "\n",
        "# Test the translator\n",
        "text = input(\"Enter the text to translate: \")\n",
        "translated_text = translate_text(text, source_lang, target_lang)\n",
        "print(\"Translated text:\", translated_text)\n"
      ]
    },
    {
      "cell_type": "code",
      "source": [],
      "metadata": {
        "id": "TWg5t1BXRB1G"
      },
      "id": "TWg5t1BXRB1G",
      "execution_count": null,
      "outputs": []
    }
  ],
  "metadata": {
    "kernelspec": {
      "display_name": "Python 3 (ipykernel)",
      "language": "python",
      "name": "python3"
    },
    "language_info": {
      "codemirror_mode": {
        "name": "ipython",
        "version": 3
      },
      "file_extension": ".py",
      "mimetype": "text/x-python",
      "name": "python",
      "nbconvert_exporter": "python",
      "pygments_lexer": "ipython3",
      "version": "3.9.13"
    },
    "colab": {
      "provenance": []
    }
  },
  "nbformat": 4,
  "nbformat_minor": 5
}